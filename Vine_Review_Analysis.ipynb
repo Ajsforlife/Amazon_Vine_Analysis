{
  "nbformat": 4,
  "nbformat_minor": 0,
  "metadata": {
    "colab": {
      "provenance": []
    },
    "kernelspec": {
      "name": "python3",
      "display_name": "Python 3"
    },
    "language_info": {
      "name": "python"
    }
  },
  "cells": [
    {
      "cell_type": "code",
      "execution_count": 1,
      "metadata": {
        "colab": {
          "base_uri": "https://localhost:8080/"
        },
        "id": "_p0-v2H8XywE",
        "outputId": "dc709356-6fd2-47e0-a679-899d63b07c61"
      },
      "outputs": [
        {
          "output_type": "stream",
          "name": "stdout",
          "text": [
            "\r0% [Working]\r            \rHit:1 http://archive.ubuntu.com/ubuntu bionic InRelease\n",
            "\r0% [Waiting for headers] [Waiting for headers] [Connected to cloud.r-project.or\r                                                                               \rGet:2 http://archive.ubuntu.com/ubuntu bionic-updates InRelease [88.7 kB]\n",
            "\r                                                                               \rGet:3 http://security.ubuntu.com/ubuntu bionic-security InRelease [88.7 kB]\n",
            "\r                                                                               \rGet:4 https://cloud.r-project.org/bin/linux/ubuntu bionic-cran40/ InRelease [3,626 B]\n",
            "\r0% [2 InRelease 15.6 kB/88.7 kB 18%] [3 InRelease 31.5 kB/88.7 kB 36%] [Connect\r0% [1 InRelease gpgv 242 kB] [2 InRelease 15.6 kB/88.7 kB 18%] [3 InRelease 37.\r0% [1 InRelease gpgv 242 kB] [2 InRelease 59.1 kB/88.7 kB 67%] [Waiting for hea\r0% [1 InRelease gpgv 242 kB] [Waiting for headers] [Waiting for headers] [Conne\r                                                                               \rGet:5 http://archive.ubuntu.com/ubuntu bionic-backports InRelease [74.6 kB]\n",
            "\r0% [1 InRelease gpgv 242 kB] [5 InRelease 8,396 B/74.6 kB 11%] [Waiting for hea\r                                                                               \r0% [1 InRelease gpgv 242 kB] [Waiting for headers] [Waiting for headers]\r                                                                        \rHit:6 http://ppa.launchpad.net/c2d4u.team/c2d4u4.0+/ubuntu bionic InRelease\n",
            "\r0% [1 InRelease gpgv 242 kB] [Waiting for headers] [Connecting to ppa.launchpad\r                                                                               \rIgn:7 https://developer.download.nvidia.com/compute/machine-learning/repos/ubuntu1804/x86_64  InRelease\n",
            "Hit:8 https://developer.download.nvidia.com/compute/cuda/repos/ubuntu1804/x86_64  InRelease\n",
            "Hit:9 https://developer.download.nvidia.com/compute/machine-learning/repos/ubuntu1804/x86_64  Release\n",
            "Hit:10 http://ppa.launchpad.net/cran/libgit2/ubuntu bionic InRelease\n",
            "Hit:11 http://ppa.launchpad.net/deadsnakes/ppa/ubuntu bionic InRelease\n",
            "Hit:12 http://ppa.launchpad.net/graphics-drivers/ppa/ubuntu bionic InRelease\n",
            "Get:13 http://security.ubuntu.com/ubuntu bionic-security/main amd64 Packages [2,965 kB]\n",
            "Get:14 http://security.ubuntu.com/ubuntu bionic-security/universe amd64 Packages [1,540 kB]\n",
            "Get:15 http://archive.ubuntu.com/ubuntu bionic-updates/main amd64 Packages [3,397 kB]\n",
            "Get:16 http://archive.ubuntu.com/ubuntu bionic-updates/universe amd64 Packages [2,318 kB]\n",
            "Fetched 10.5 MB in 3s (3,645 kB/s)\n",
            "Reading package lists... Done\n"
          ]
        }
      ],
      "source": [
        "import os\n",
        "# Find the latest version of spark 3.0  from http://www.apache.org/dist/spark/ and enter as the spark version\n",
        "# For example:\n",
        "# spark_version = 'spark-3.0.3'\n",
        "spark_version = 'spark-3.3.0'\n",
        "os.environ['SPARK_VERSION']=spark_version\n",
        "\n",
        "# Install Spark and Java\n",
        "!apt-get update\n",
        "!apt-get install openjdk-11-jdk-headless -qq > /dev/null\n",
        "!wget -q http://www.apache.org/dist/spark/$SPARK_VERSION/$SPARK_VERSION-bin-hadoop2.tgz\n",
        "!tar xf $SPARK_VERSION-bin-hadoop2.tgz\n",
        "!pip install -q findspark\n",
        "\n",
        "# Set Environment Variables\n",
        "os.environ[\"JAVA_HOME\"] = \"/usr/lib/jvm/java-11-openjdk-amd64\"\n",
        "os.environ[\"SPARK_HOME\"] = f\"/content/{spark_version}-bin-hadoop2\"\n",
        "\n",
        "# Start a SparkSession\n",
        "import findspark\n",
        "findspark.init()"
      ]
    },
    {
      "cell_type": "code",
      "source": [
        "# Download the Postgres driver that will allow Spark to interact with Postgres.\n",
        "!wget https://jdbc.postgresql.org/download/postgresql-42.2.16.jar"
      ],
      "metadata": {
        "colab": {
          "base_uri": "https://localhost:8080/"
        },
        "id": "_VSIq2gZYATL",
        "outputId": "370bf786-98b1-466b-bc3f-638c9739fcb8"
      },
      "execution_count": 2,
      "outputs": [
        {
          "output_type": "stream",
          "name": "stdout",
          "text": [
            "--2022-09-15 19:23:41--  https://jdbc.postgresql.org/download/postgresql-42.2.16.jar\n",
            "Resolving jdbc.postgresql.org (jdbc.postgresql.org)... 72.32.157.228, 2001:4800:3e1:1::228\n",
            "Connecting to jdbc.postgresql.org (jdbc.postgresql.org)|72.32.157.228|:443... connected.\n",
            "HTTP request sent, awaiting response... 200 OK\n",
            "Length: 1002883 (979K) [application/java-archive]\n",
            "Saving to: ‘postgresql-42.2.16.jar’\n",
            "\n",
            "postgresql-42.2.16. 100%[===================>] 979.38K  5.40MB/s    in 0.2s    \n",
            "\n",
            "2022-09-15 19:23:42 (5.40 MB/s) - ‘postgresql-42.2.16.jar’ saved [1002883/1002883]\n",
            "\n"
          ]
        }
      ]
    },
    {
      "cell_type": "code",
      "source": [
        "from pyspark.sql import SparkSession\n",
        "spark = SparkSession.builder.appName(\"M16-Amazon-Challenge\").config(\"spark.driver.extraClassPath\",\"/content/postgresql-42.2.16.jar\").getOrCreate()"
      ],
      "metadata": {
        "id": "crA4iXFrYCja"
      },
      "execution_count": 3,
      "outputs": []
    },
    {
      "cell_type": "code",
      "source": [
        "from pyspark import SparkFiles\n",
        "url = \"https://s3.amazonaws.com/amazon-reviews-pds/tsv/amazon_reviews_us_Mobile_Apps_v1_00.tsv.gz\"\n",
        "spark.sparkContext.addFile(url)\n",
        "df = spark.read.option(\"encoding\", \"UTF-8\").csv(SparkFiles.get(\"\"), sep=\"\\t\", header=True, inferSchema=True)\n",
        "df.show()"
      ],
      "metadata": {
        "colab": {
          "base_uri": "https://localhost:8080/"
        },
        "id": "MlCDcmd0YFMk",
        "outputId": "15e73ac4-7ca3-4e58-a603-610ae055650f"
      },
      "execution_count": 4,
      "outputs": [
        {
          "output_type": "stream",
          "name": "stdout",
          "text": [
            "+-----------+-----------+--------------+----------+--------------+--------------------+----------------+-----------+-------------+-----------+----+-----------------+--------------------+--------------------+-------------------+\n",
            "|marketplace|customer_id|     review_id|product_id|product_parent|       product_title|product_category|star_rating|helpful_votes|total_votes|vine|verified_purchase|     review_headline|         review_body|        review_date|\n",
            "+-----------+-----------+--------------+----------+--------------+--------------------+----------------+-----------+-------------+-----------+----+-----------------+--------------------+--------------------+-------------------+\n",
            "|         US|    1774101|R3PMQXEVYR4ZT1|B00DVKOYBM|     263046246|         8 Ball Pool|     Mobile_Apps|          3|            0|          0|   N|                Y|                 Fun|It is a fun game ...|2015-08-31 00:00:00|\n",
            "|         US|   13679234|R1I1K3EO98EMUV|B00R1IA4RS|     128868854|Christmas Cookie ...|     Mobile_Apps|          5|            0|          0|   N|                Y|          Five Stars|Fun cute game.  S...|2015-08-31 00:00:00|\n",
            "|         US|   15056632|R3K23URSI2MY42|B01069LGHK|     955481764|Relax Melodies Pr...|     Mobile_Apps|          5|            4|          4|   N|                Y|         Great app !|It's a very nice ...|2015-08-31 00:00:00|\n",
            "|         US|   52477711| RH2P770T10X38|B00X64ZKM0|     455029830|  Star Trek™ Trexels|     Mobile_Apps|          5|            0|          0|   N|                Y|             awesome|I am a huge star ...|2015-08-31 00:00:00|\n",
            "|         US|   15021042| RV9YBAW8CWFYN|B00KIZO238|     685358159|      Weather Friend|     Mobile_Apps|          1|            0|          0|   N|                Y|      Don't like it.|I get better info...|2015-08-31 00:00:00|\n",
            "|         US|    5181462| R19627K7G1G6X|B00H9FE0FU|     158085302|         Avakin Life|     Mobile_Apps|          5|            0|          0|   N|                Y|             love it|  This is a fun game|2015-08-31 00:00:00|\n",
            "|         US|   19360265|R22858XECEF7YQ|B0064X7FVE|     140639925|The Weather Chann...|     Mobile_Apps|          3|            0|          0|   N|                N|         weather app|It's ok ... I gue...|2015-08-31 00:00:00|\n",
            "|         US|   28928572|R3KQOY7MDZOK0U|B00N28818A|     838378762|  Amazon Prime Video|     Mobile_Apps|          1|            0|          0|   N|                Y|            One Star|Spent 30 minutes,...|2015-08-31 00:00:00|\n",
            "|         US|   26842555|R31BKIN02QFDHS|B00HGMXSGI|     141073643|F1 Car Racing 3D ...|     Mobile_Apps|          4|            0|          0|   N|                Y|          Four Stars|                okay|2015-08-31 00:00:00|\n",
            "|         US|   25535583|R3FW62P5EUDUUV|B0119R2DB6|     498391460|           WordBrain|     Mobile_Apps|          5|            0|          0|   N|                Y|        Challenging!|Definitely one of...|2015-08-31 00:00:00|\n",
            "|         US|    3343825| RBD8ROQJQO68E|B00O0OR65E|     156086007|           Yes Chef!|     Mobile_Apps|          5|            0|          0|   N|                Y|            Awesome!|Very cool game. W...|2015-08-31 00:00:00|\n",
            "|         US|   49181739|R1S04R7IT12FKH|B00YCL9R0W|     629058532|Weather Live - De...|     Mobile_Apps|          4|            0|          0|   N|                Y|       Works great!!|Works great, all ...|2015-08-31 00:00:00|\n",
            "|         US|   13270659|R194G91R3ZLBF2|B00CO6TOZA|     829161463|The Sandbox - Pix...|     Mobile_Apps|          1|            0|          0|   N|                Y|       Can't open it|It was fun until ...|2015-08-31 00:00:00|\n",
            "|         US|    2463531|R3HL9X6I540JIU|B0143IEV2C|     700349630|Free Fur All – We...|     Mobile_Apps|          4|            3|          3|   N|                Y|           it's fun.|My daughter watch...|2015-08-31 00:00:00|\n",
            "|         US|   22004512|R2EY7KOBYDYXXA|B013Z61TSW|     597449900| DraftCaddy FFL 2015|     Mobile_Apps|          5|            0|          0|   N|                Y|          Five Stars|Great and super e...|2015-08-31 00:00:00|\n",
            "|         US|   22117302|R25RWPOJZ107LS|B00VTVJYTC|     280276697|    Balloon Paradise|     Mobile_Apps|          5|            0|          0|   N|                Y|                 fun|This is fun too play|2015-08-31 00:00:00|\n",
            "|         US|   15335275|R3CXLGDEO7QPGY|B00W3V83QW|     644120444| Bubble Witch 2 Saga|     Mobile_Apps|          1|            0|          0|   N|                Y|Cannot download e...|Cannot download  ...|2015-08-31 00:00:00|\n",
            "|         US|    8713121|R3AEWJ6OQZI2DV|B011WDWQ6O|     228013366|Viva Vegas Slots ...|     Mobile_Apps|          3|            0|          0|   N|                Y|               agree|The game sucks yo...|2015-08-31 00:00:00|\n",
            "|         US|   25989961|R3QD4EAHDX3JVP|B00F9G2UQW|     523400408|Android Universal...|     Mobile_Apps|          3|            0|          0|   N|                Y|            Horrible|It's so annoying ...|2015-08-31 00:00:00|\n",
            "|         US|    3729602| R14F4B4CZ4RIJ|B00Y3ZWEL6|     860150135|Castle of Illusio...|     Mobile_Apps|          1|            0|          2|   N|                Y|               Why?!|I have been tryin...|2015-08-31 00:00:00|\n",
            "+-----------+-----------+--------------+----------+--------------+--------------------+----------------+-----------+-------------+-----------+----+-----------------+--------------------+--------------------+-------------------+\n",
            "only showing top 20 rows\n",
            "\n"
          ]
        }
      ]
    },
    {
      "cell_type": "code",
      "source": [
        "from pyspark.sql.functions import to_date\n",
        "# Read in the Review dataset as a DataFrame\n",
        "df.printSchema()"
      ],
      "metadata": {
        "colab": {
          "base_uri": "https://localhost:8080/"
        },
        "id": "rR-xyMoBYHfl",
        "outputId": "20d730fb-79b3-4aff-f28d-3f327406c3ed"
      },
      "execution_count": 5,
      "outputs": [
        {
          "output_type": "stream",
          "name": "stdout",
          "text": [
            "root\n",
            " |-- marketplace: string (nullable = true)\n",
            " |-- customer_id: integer (nullable = true)\n",
            " |-- review_id: string (nullable = true)\n",
            " |-- product_id: string (nullable = true)\n",
            " |-- product_parent: integer (nullable = true)\n",
            " |-- product_title: string (nullable = true)\n",
            " |-- product_category: string (nullable = true)\n",
            " |-- star_rating: integer (nullable = true)\n",
            " |-- helpful_votes: integer (nullable = true)\n",
            " |-- total_votes: integer (nullable = true)\n",
            " |-- vine: string (nullable = true)\n",
            " |-- verified_purchase: string (nullable = true)\n",
            " |-- review_headline: string (nullable = true)\n",
            " |-- review_body: string (nullable = true)\n",
            " |-- review_date: timestamp (nullable = true)\n",
            "\n"
          ]
        }
      ]
    },
    {
      "cell_type": "code",
      "source": [
        "from pyspark.sql.functions import count\n",
        "# Create the customers_table DataFrame\n",
        "customers_df = df.groupby(\"customer_id\").agg(count('customer_id')).withColumnRenamed(\"count(customer_id)\", \"customer_count\")\n",
        "customers_df.show()"
      ],
      "metadata": {
        "colab": {
          "base_uri": "https://localhost:8080/"
        },
        "id": "TGLreT5cYJhj",
        "outputId": "0af54d7b-72fc-42c9-8b71-b21e78132153"
      },
      "execution_count": 6,
      "outputs": [
        {
          "output_type": "stream",
          "name": "stdout",
          "text": [
            "+-----------+--------------+\n",
            "|customer_id|customer_count|\n",
            "+-----------+--------------+\n",
            "|   44552694|             7|\n",
            "|   27457155|             6|\n",
            "|   35842367|             9|\n",
            "|   16848166|             5|\n",
            "|   13313689|            10|\n",
            "|    3628854|             1|\n",
            "|   43626894|             1|\n",
            "|    4658983|             8|\n",
            "|   16457323|             3|\n",
            "|   30024726|             5|\n",
            "|    3636174|             1|\n",
            "|     582750|             1|\n",
            "|      78113|             1|\n",
            "|    2246607|             5|\n",
            "|   26264517|             1|\n",
            "|    7439900|             1|\n",
            "|    2361059|             2|\n",
            "|   22965400|             2|\n",
            "|   32777038|             1|\n",
            "|   29019526|             2|\n",
            "+-----------+--------------+\n",
            "only showing top 20 rows\n",
            "\n"
          ]
        }
      ]
    },
    {
      "cell_type": "code",
      "source": [
        "# Create the products_table DataFrame and drop duplicates. \n",
        "products_df = df.select(['product_id','product_title']).drop_duplicates()\n",
        "products_df.show()"
      ],
      "metadata": {
        "colab": {
          "base_uri": "https://localhost:8080/"
        },
        "id": "Iqm9NEPDYLUA",
        "outputId": "bf9dd696-6a65-4c63-f50f-6a1ff76536c0"
      },
      "execution_count": 7,
      "outputs": [
        {
          "output_type": "stream",
          "name": "stdout",
          "text": [
            "+----------+--------------------+\n",
            "|product_id|       product_title|\n",
            "+----------+--------------------+\n",
            "|B00NG6CIKA|Solitaire TriPeak...|\n",
            "|B00ZDVV7Q2|    Frozen Free Fall|\n",
            "|B00N0RK9JM|How Draw Adventur...|\n",
            "|B00SYZDSXO|       Bee Brilliant|\n",
            "|B00HAPRVWS|Sonic The Hedgehog 2|\n",
            "|B00UQK19Z4|HD Screen Wallpap...|\n",
            "|B0073VRX5Y|Power-Button Flas...|\n",
            "|B00ZHDCTLS|           bunny car|\n",
            "|B00I3MX20W|            Vanguard|\n",
            "|B00ITR6WLW|How to Draw: Eque...|\n",
            "|B00CREXAVS|           Bridge V+|\n",
            "|B00CSQYYHO|     Where's My Cat?|\n",
            "|B009KVP70S|          War Sounds|\n",
            "|B00KQ1XYFQ|   My Verizon Mobile|\n",
            "|B014GD3NRS|          kumo cloud|\n",
            "|B00EDUTGB2|     HP Print Plugin|\n",
            "|B00NXOLPFY|Horse Simulator 3...|\n",
            "|B004AHBBPW|         Daily Bible|\n",
            "|B008I43DYU|      Calculator Pro|\n",
            "|B00RG80MSY|        Jewels Blitz|\n",
            "+----------+--------------------+\n",
            "only showing top 20 rows\n",
            "\n"
          ]
        }
      ]
    },
    {
      "cell_type": "code",
      "source": [
        "# Create the review_id_table DataFrame. \n",
        "# Convert the 'review_date' column to a date datatype with to_date(\"review_date\", 'yyyy-MM-dd').alias(\"review_date\")\n",
        "review_id_df = df.select(['review_id','customer_id','product_id','product_parent', to_date(\"review_date\", 'yyyy-MM-dd').alias(\"review_date\")])\n",
        "review_id_df.show()"
      ],
      "metadata": {
        "colab": {
          "base_uri": "https://localhost:8080/"
        },
        "id": "GE4swK90YM-N",
        "outputId": "3b6a8be8-e158-4e94-9fd8-82676d66fa93"
      },
      "execution_count": 8,
      "outputs": [
        {
          "output_type": "stream",
          "name": "stdout",
          "text": [
            "+--------------+-----------+----------+--------------+-----------+\n",
            "|     review_id|customer_id|product_id|product_parent|review_date|\n",
            "+--------------+-----------+----------+--------------+-----------+\n",
            "|R3PMQXEVYR4ZT1|    1774101|B00DVKOYBM|     263046246| 2015-08-31|\n",
            "|R1I1K3EO98EMUV|   13679234|B00R1IA4RS|     128868854| 2015-08-31|\n",
            "|R3K23URSI2MY42|   15056632|B01069LGHK|     955481764| 2015-08-31|\n",
            "| RH2P770T10X38|   52477711|B00X64ZKM0|     455029830| 2015-08-31|\n",
            "| RV9YBAW8CWFYN|   15021042|B00KIZO238|     685358159| 2015-08-31|\n",
            "| R19627K7G1G6X|    5181462|B00H9FE0FU|     158085302| 2015-08-31|\n",
            "|R22858XECEF7YQ|   19360265|B0064X7FVE|     140639925| 2015-08-31|\n",
            "|R3KQOY7MDZOK0U|   28928572|B00N28818A|     838378762| 2015-08-31|\n",
            "|R31BKIN02QFDHS|   26842555|B00HGMXSGI|     141073643| 2015-08-31|\n",
            "|R3FW62P5EUDUUV|   25535583|B0119R2DB6|     498391460| 2015-08-31|\n",
            "| RBD8ROQJQO68E|    3343825|B00O0OR65E|     156086007| 2015-08-31|\n",
            "|R1S04R7IT12FKH|   49181739|B00YCL9R0W|     629058532| 2015-08-31|\n",
            "|R194G91R3ZLBF2|   13270659|B00CO6TOZA|     829161463| 2015-08-31|\n",
            "|R3HL9X6I540JIU|    2463531|B0143IEV2C|     700349630| 2015-08-31|\n",
            "|R2EY7KOBYDYXXA|   22004512|B013Z61TSW|     597449900| 2015-08-31|\n",
            "|R25RWPOJZ107LS|   22117302|B00VTVJYTC|     280276697| 2015-08-31|\n",
            "|R3CXLGDEO7QPGY|   15335275|B00W3V83QW|     644120444| 2015-08-31|\n",
            "|R3AEWJ6OQZI2DV|    8713121|B011WDWQ6O|     228013366| 2015-08-31|\n",
            "|R3QD4EAHDX3JVP|   25989961|B00F9G2UQW|     523400408| 2015-08-31|\n",
            "| R14F4B4CZ4RIJ|    3729602|B00Y3ZWEL6|     860150135| 2015-08-31|\n",
            "+--------------+-----------+----------+--------------+-----------+\n",
            "only showing top 20 rows\n",
            "\n"
          ]
        }
      ]
    },
    {
      "cell_type": "code",
      "source": [
        "# Create the vine_table. DataFrame\n",
        "vine_df = df.select(['review_id','star_rating','helpful_votes','total_votes','vine','verified_purchase'])\n",
        "vine_df.show()"
      ],
      "metadata": {
        "colab": {
          "base_uri": "https://localhost:8080/"
        },
        "id": "ggUlVisrYO9r",
        "outputId": "dc235a12-661a-429c-9f4a-4c1100b65e24"
      },
      "execution_count": 9,
      "outputs": [
        {
          "output_type": "stream",
          "name": "stdout",
          "text": [
            "+--------------+-----------+-------------+-----------+----+-----------------+\n",
            "|     review_id|star_rating|helpful_votes|total_votes|vine|verified_purchase|\n",
            "+--------------+-----------+-------------+-----------+----+-----------------+\n",
            "|R3PMQXEVYR4ZT1|          3|            0|          0|   N|                Y|\n",
            "|R1I1K3EO98EMUV|          5|            0|          0|   N|                Y|\n",
            "|R3K23URSI2MY42|          5|            4|          4|   N|                Y|\n",
            "| RH2P770T10X38|          5|            0|          0|   N|                Y|\n",
            "| RV9YBAW8CWFYN|          1|            0|          0|   N|                Y|\n",
            "| R19627K7G1G6X|          5|            0|          0|   N|                Y|\n",
            "|R22858XECEF7YQ|          3|            0|          0|   N|                N|\n",
            "|R3KQOY7MDZOK0U|          1|            0|          0|   N|                Y|\n",
            "|R31BKIN02QFDHS|          4|            0|          0|   N|                Y|\n",
            "|R3FW62P5EUDUUV|          5|            0|          0|   N|                Y|\n",
            "| RBD8ROQJQO68E|          5|            0|          0|   N|                Y|\n",
            "|R1S04R7IT12FKH|          4|            0|          0|   N|                Y|\n",
            "|R194G91R3ZLBF2|          1|            0|          0|   N|                Y|\n",
            "|R3HL9X6I540JIU|          4|            3|          3|   N|                Y|\n",
            "|R2EY7KOBYDYXXA|          5|            0|          0|   N|                Y|\n",
            "|R25RWPOJZ107LS|          5|            0|          0|   N|                Y|\n",
            "|R3CXLGDEO7QPGY|          1|            0|          0|   N|                Y|\n",
            "|R3AEWJ6OQZI2DV|          3|            0|          0|   N|                Y|\n",
            "|R3QD4EAHDX3JVP|          3|            0|          0|   N|                Y|\n",
            "| R14F4B4CZ4RIJ|          1|            0|          2|   N|                Y|\n",
            "+--------------+-----------+-------------+-----------+----+-----------------+\n",
            "only showing top 20 rows\n",
            "\n"
          ]
        }
      ]
    },
    {
      "cell_type": "code",
      "source": [
        "total_votes_df = df.filter('total_votes>=20')\n",
        "total_votes_df.show()"
      ],
      "metadata": {
        "colab": {
          "base_uri": "https://localhost:8080/"
        },
        "id": "RuAkQoe-YQxi",
        "outputId": "13c9077e-86e1-4678-96bb-04112affa346"
      },
      "execution_count": 10,
      "outputs": [
        {
          "output_type": "stream",
          "name": "stdout",
          "text": [
            "+-----------+-----------+--------------+----------+--------------+--------------------+----------------+-----------+-------------+-----------+----+-----------------+--------------------+--------------------+-------------------+\n",
            "|marketplace|customer_id|     review_id|product_id|product_parent|       product_title|product_category|star_rating|helpful_votes|total_votes|vine|verified_purchase|     review_headline|         review_body|        review_date|\n",
            "+-----------+-----------+--------------+----------+--------------+--------------------+----------------+-----------+-------------+-----------+----+-----------------+--------------------+--------------------+-------------------+\n",
            "|         US|   10869226|R1Z9QZRQJ1F8JX|B004GJDQT8|      36653526|  Amazon Underground|     Mobile_Apps|          1|           17|         22|   N|                Y|These permissions...|Why not ask for a...|2015-08-31 00:00:00|\n",
            "|         US|    6059356|R31PAYBVBP8W62|B012OO01XK|      19786981| Monsters University|     Mobile_Apps|          1|           54|         81|   N|                Y|                 Bah|It doesn't load. ...|2015-08-31 00:00:00|\n",
            "|         US|   44461772|R33GCMAT1K5DX8|B0127JML26|     157019964|Pixel Block Survi...|     Mobile_Apps|          2|          141|        190|   N|                Y|By the time you f...|I downloaded this...|2015-08-31 00:00:00|\n",
            "|         US|    2369591|R3MIL83RY4SMS4|B011M6KE10|     894245591| Where's My Water? 2|     Mobile_Apps|          1|           27|         38|   N|                Y|Sequels are almos...|It is okay being ...|2015-08-31 00:00:00|\n",
            "|         US|    9513655|R37T9FXGG07XOM|B004GJDQT8|      36653526|  Amazon Underground|     Mobile_Apps|          1|           24|         28|   N|                Y|            One Star|Requires permissi...|2015-08-31 00:00:00|\n",
            "|         US|   16266214|R2E9ZHX72173PZ|B00STONCKO|     764110573|     GTR DRAG RACING|     Mobile_Apps|          1|           14|         21|   N|                Y|   Wouldn't download|  Wouldn't download.|2015-08-31 00:00:00|\n",
            "|         US|   45690310|R2I6YA0BVG78P6|B012ZKO3EQ|     959740412|      My Little Pony|     Mobile_Apps|          3|           59|         70|   N|                Y|Freezing After Da...|Update 1.26.16: I...|2015-08-31 00:00:00|\n",
            "|         US|   21735645|R1NB53BPRH24RK|B00N2G87HW|     252539434|       God Of Combat|     Mobile_Apps|          5|           15|         26|   N|                Y|                Rick|Visit fifth givin...|2015-08-31 00:00:00|\n",
            "|         US|   44941941|R3AX1CCCZH20C5|B00ZRVAUUM|     739128988|Goodnight Caillou...|     Mobile_Apps|          5|           17|         26|   N|                Y|reinforce toothbr...|Excellent way to ...|2015-08-31 00:00:00|\n",
            "|         US|   43783648|R1FOM4K4S3S1A3|B012GOSOD2|     671142157|PAC-MAN 256 - End...|     Mobile_Apps|          4|           19|         22|   N|                N|A really fun game...|A really fun game...|2015-08-31 00:00:00|\n",
            "|         US|     496222|  RD5ROPRIYJU2|B013RH895U|     830106093|Video calling Tex...|     Mobile_Apps|          5|           66|         79|   N|                Y|                 Lol|     I love this app|2015-08-31 00:00:00|\n",
            "|         US|    1409017| R91KQZU47W02I|B00TXQQC90|     927941506|Mean Girls: The Game|     Mobile_Apps|          5|           25|         33|   N|                Y|    actually not bad|Its a really fun ...|2015-08-31 00:00:00|\n",
            "|         US|   48673305| RIKCO3Q55X4O0|B00WFBGZOC|      24454451|        Crack Attack|     Mobile_Apps|          3|           21|         25|   N|                Y|         Aptly named|Some of the games...|2015-08-31 00:00:00|\n",
            "|         US|   48684924|R3ID5IVQDI73P3|B00YDLZRRI|     821145313|OfficeSuite Profe...|     Mobile_Apps|          1|          269|        309|   N|                Y|IAP supposed to b...|Actually free is ...|2015-08-31 00:00:00|\n",
            "|         US|   14583345|R1B24LSVGX0L2C|B00TII1RAC|     777630826| Pink Doll Makeover™|     Mobile_Apps|          5|           42|         50|   N|                Y|             Hooked!|Now this is what ...|2015-08-31 00:00:00|\n",
            "|         US|   47430499|R3W34NSP5WLD48|B00NF3AF5O|      36945089|Cloud Security an...|     Mobile_Apps|          1|           57|         69|   N|                Y|Complete waste of...|    Do not purchase!|2015-08-31 00:00:00|\n",
            "|         US|    3031127|R2U660ZUAD0A3P|B010TS4SKK|     238359203|  Looney Tunes Dash!|     Mobile_Apps|          5|           22|         23|   N|                Y|              natt54|Awesome about tim...|2015-08-31 00:00:00|\n",
            "|         US|    6889002| R82AY61IZLUH3|B00YUUU3F8|       8673446|Blamburger - Clar...|     Mobile_Apps|          5|           24|         25|   N|                Y|Me and my niece a...|Me and my niece a...|2015-08-31 00:00:00|\n",
            "|         US|   10689283|R19YST56G6DV8M|B00Y3ZWEL6|     860150135|Castle of Illusio...|     Mobile_Apps|          5|           56|         64|   N|                Y|          Five Stars|Very fun game esp...|2015-08-31 00:00:00|\n",
            "|         US|   27575297|R2I9QXF92BA3GA|B00Q8D48HO|      45906323|           Naval Age|     Mobile_Apps|          5|           13|         21|   N|                Y|                 yes|                 yes|2015-08-31 00:00:00|\n",
            "+-----------+-----------+--------------+----------+--------------+--------------------+----------------+-----------+-------------+-----------+----+-----------------+--------------------+--------------------+-------------------+\n",
            "only showing top 20 rows\n",
            "\n"
          ]
        }
      ]
    },
    {
      "cell_type": "code",
      "source": [
        "votes_df = total_votes_df.filter('helpful_votes/total_votes>=.5')\n",
        "votes_df.show()"
      ],
      "metadata": {
        "colab": {
          "base_uri": "https://localhost:8080/"
        },
        "id": "abP08qZgnqrc",
        "outputId": "fe01d842-6d89-4369-a6f9-7b7500b23c77"
      },
      "execution_count": 11,
      "outputs": [
        {
          "output_type": "stream",
          "name": "stdout",
          "text": [
            "+-----------+-----------+--------------+----------+--------------+--------------------+----------------+-----------+-------------+-----------+----+-----------------+--------------------+--------------------+-------------------+\n",
            "|marketplace|customer_id|     review_id|product_id|product_parent|       product_title|product_category|star_rating|helpful_votes|total_votes|vine|verified_purchase|     review_headline|         review_body|        review_date|\n",
            "+-----------+-----------+--------------+----------+--------------+--------------------+----------------+-----------+-------------+-----------+----+-----------------+--------------------+--------------------+-------------------+\n",
            "|         US|   10869226|R1Z9QZRQJ1F8JX|B004GJDQT8|      36653526|  Amazon Underground|     Mobile_Apps|          1|           17|         22|   N|                Y|These permissions...|Why not ask for a...|2015-08-31 00:00:00|\n",
            "|         US|    6059356|R31PAYBVBP8W62|B012OO01XK|      19786981| Monsters University|     Mobile_Apps|          1|           54|         81|   N|                Y|                 Bah|It doesn't load. ...|2015-08-31 00:00:00|\n",
            "|         US|   44461772|R33GCMAT1K5DX8|B0127JML26|     157019964|Pixel Block Survi...|     Mobile_Apps|          2|          141|        190|   N|                Y|By the time you f...|I downloaded this...|2015-08-31 00:00:00|\n",
            "|         US|    2369591|R3MIL83RY4SMS4|B011M6KE10|     894245591| Where's My Water? 2|     Mobile_Apps|          1|           27|         38|   N|                Y|Sequels are almos...|It is okay being ...|2015-08-31 00:00:00|\n",
            "|         US|    9513655|R37T9FXGG07XOM|B004GJDQT8|      36653526|  Amazon Underground|     Mobile_Apps|          1|           24|         28|   N|                Y|            One Star|Requires permissi...|2015-08-31 00:00:00|\n",
            "|         US|   16266214|R2E9ZHX72173PZ|B00STONCKO|     764110573|     GTR DRAG RACING|     Mobile_Apps|          1|           14|         21|   N|                Y|   Wouldn't download|  Wouldn't download.|2015-08-31 00:00:00|\n",
            "|         US|   45690310|R2I6YA0BVG78P6|B012ZKO3EQ|     959740412|      My Little Pony|     Mobile_Apps|          3|           59|         70|   N|                Y|Freezing After Da...|Update 1.26.16: I...|2015-08-31 00:00:00|\n",
            "|         US|   21735645|R1NB53BPRH24RK|B00N2G87HW|     252539434|       God Of Combat|     Mobile_Apps|          5|           15|         26|   N|                Y|                Rick|Visit fifth givin...|2015-08-31 00:00:00|\n",
            "|         US|   44941941|R3AX1CCCZH20C5|B00ZRVAUUM|     739128988|Goodnight Caillou...|     Mobile_Apps|          5|           17|         26|   N|                Y|reinforce toothbr...|Excellent way to ...|2015-08-31 00:00:00|\n",
            "|         US|   43783648|R1FOM4K4S3S1A3|B012GOSOD2|     671142157|PAC-MAN 256 - End...|     Mobile_Apps|          4|           19|         22|   N|                N|A really fun game...|A really fun game...|2015-08-31 00:00:00|\n",
            "|         US|     496222|  RD5ROPRIYJU2|B013RH895U|     830106093|Video calling Tex...|     Mobile_Apps|          5|           66|         79|   N|                Y|                 Lol|     I love this app|2015-08-31 00:00:00|\n",
            "|         US|    1409017| R91KQZU47W02I|B00TXQQC90|     927941506|Mean Girls: The Game|     Mobile_Apps|          5|           25|         33|   N|                Y|    actually not bad|Its a really fun ...|2015-08-31 00:00:00|\n",
            "|         US|   48673305| RIKCO3Q55X4O0|B00WFBGZOC|      24454451|        Crack Attack|     Mobile_Apps|          3|           21|         25|   N|                Y|         Aptly named|Some of the games...|2015-08-31 00:00:00|\n",
            "|         US|   48684924|R3ID5IVQDI73P3|B00YDLZRRI|     821145313|OfficeSuite Profe...|     Mobile_Apps|          1|          269|        309|   N|                Y|IAP supposed to b...|Actually free is ...|2015-08-31 00:00:00|\n",
            "|         US|   14583345|R1B24LSVGX0L2C|B00TII1RAC|     777630826| Pink Doll Makeover™|     Mobile_Apps|          5|           42|         50|   N|                Y|             Hooked!|Now this is what ...|2015-08-31 00:00:00|\n",
            "|         US|   47430499|R3W34NSP5WLD48|B00NF3AF5O|      36945089|Cloud Security an...|     Mobile_Apps|          1|           57|         69|   N|                Y|Complete waste of...|    Do not purchase!|2015-08-31 00:00:00|\n",
            "|         US|    3031127|R2U660ZUAD0A3P|B010TS4SKK|     238359203|  Looney Tunes Dash!|     Mobile_Apps|          5|           22|         23|   N|                Y|              natt54|Awesome about tim...|2015-08-31 00:00:00|\n",
            "|         US|    6889002| R82AY61IZLUH3|B00YUUU3F8|       8673446|Blamburger - Clar...|     Mobile_Apps|          5|           24|         25|   N|                Y|Me and my niece a...|Me and my niece a...|2015-08-31 00:00:00|\n",
            "|         US|   10689283|R19YST56G6DV8M|B00Y3ZWEL6|     860150135|Castle of Illusio...|     Mobile_Apps|          5|           56|         64|   N|                Y|          Five Stars|Very fun game esp...|2015-08-31 00:00:00|\n",
            "|         US|   27575297|R2I9QXF92BA3GA|B00Q8D48HO|      45906323|           Naval Age|     Mobile_Apps|          5|           13|         21|   N|                Y|                 yes|                 yes|2015-08-31 00:00:00|\n",
            "+-----------+-----------+--------------+----------+--------------+--------------------+----------------+-----------+-------------+-----------+----+-----------------+--------------------+--------------------+-------------------+\n",
            "only showing top 20 rows\n",
            "\n"
          ]
        }
      ]
    },
    {
      "cell_type": "code",
      "source": [
        "vine_votes_yes_df = votes_df.filter(\"vine=='Y'\")\n",
        "vine_votes_yes_df.show()"
      ],
      "metadata": {
        "colab": {
          "base_uri": "https://localhost:8080/"
        },
        "id": "HTVohvJAqDac",
        "outputId": "7050ecac-6f6f-41b1-fe65-343a54c0f716"
      },
      "execution_count": 12,
      "outputs": [
        {
          "output_type": "stream",
          "name": "stdout",
          "text": [
            "+-----------+-----------+---------+----------+--------------+-------------+----------------+-----------+-------------+-----------+----+-----------------+---------------+-----------+-----------+\n",
            "|marketplace|customer_id|review_id|product_id|product_parent|product_title|product_category|star_rating|helpful_votes|total_votes|vine|verified_purchase|review_headline|review_body|review_date|\n",
            "+-----------+-----------+---------+----------+--------------+-------------+----------------+-----------+-------------+-----------+----+-----------------+---------------+-----------+-----------+\n",
            "+-----------+-----------+---------+----------+--------------+-------------+----------------+-----------+-------------+-----------+----+-----------------+---------------+-----------+-----------+\n",
            "\n"
          ]
        }
      ]
    },
    {
      "cell_type": "code",
      "source": [
        "vine_votes_no_df = votes_df.filter(\"vine=='N'\")\n",
        "vine_votes_no_df.show()"
      ],
      "metadata": {
        "colab": {
          "base_uri": "https://localhost:8080/"
        },
        "id": "8qgeSLg5sJw8",
        "outputId": "aa005b66-c2e5-4354-bac5-d08c01c2401f"
      },
      "execution_count": 13,
      "outputs": [
        {
          "output_type": "stream",
          "name": "stdout",
          "text": [
            "+-----------+-----------+--------------+----------+--------------+--------------------+----------------+-----------+-------------+-----------+----+-----------------+--------------------+--------------------+-------------------+\n",
            "|marketplace|customer_id|     review_id|product_id|product_parent|       product_title|product_category|star_rating|helpful_votes|total_votes|vine|verified_purchase|     review_headline|         review_body|        review_date|\n",
            "+-----------+-----------+--------------+----------+--------------+--------------------+----------------+-----------+-------------+-----------+----+-----------------+--------------------+--------------------+-------------------+\n",
            "|         US|   10869226|R1Z9QZRQJ1F8JX|B004GJDQT8|      36653526|  Amazon Underground|     Mobile_Apps|          1|           17|         22|   N|                Y|These permissions...|Why not ask for a...|2015-08-31 00:00:00|\n",
            "|         US|    6059356|R31PAYBVBP8W62|B012OO01XK|      19786981| Monsters University|     Mobile_Apps|          1|           54|         81|   N|                Y|                 Bah|It doesn't load. ...|2015-08-31 00:00:00|\n",
            "|         US|   44461772|R33GCMAT1K5DX8|B0127JML26|     157019964|Pixel Block Survi...|     Mobile_Apps|          2|          141|        190|   N|                Y|By the time you f...|I downloaded this...|2015-08-31 00:00:00|\n",
            "|         US|    2369591|R3MIL83RY4SMS4|B011M6KE10|     894245591| Where's My Water? 2|     Mobile_Apps|          1|           27|         38|   N|                Y|Sequels are almos...|It is okay being ...|2015-08-31 00:00:00|\n",
            "|         US|    9513655|R37T9FXGG07XOM|B004GJDQT8|      36653526|  Amazon Underground|     Mobile_Apps|          1|           24|         28|   N|                Y|            One Star|Requires permissi...|2015-08-31 00:00:00|\n",
            "|         US|   16266214|R2E9ZHX72173PZ|B00STONCKO|     764110573|     GTR DRAG RACING|     Mobile_Apps|          1|           14|         21|   N|                Y|   Wouldn't download|  Wouldn't download.|2015-08-31 00:00:00|\n",
            "|         US|   45690310|R2I6YA0BVG78P6|B012ZKO3EQ|     959740412|      My Little Pony|     Mobile_Apps|          3|           59|         70|   N|                Y|Freezing After Da...|Update 1.26.16: I...|2015-08-31 00:00:00|\n",
            "|         US|   21735645|R1NB53BPRH24RK|B00N2G87HW|     252539434|       God Of Combat|     Mobile_Apps|          5|           15|         26|   N|                Y|                Rick|Visit fifth givin...|2015-08-31 00:00:00|\n",
            "|         US|   44941941|R3AX1CCCZH20C5|B00ZRVAUUM|     739128988|Goodnight Caillou...|     Mobile_Apps|          5|           17|         26|   N|                Y|reinforce toothbr...|Excellent way to ...|2015-08-31 00:00:00|\n",
            "|         US|   43783648|R1FOM4K4S3S1A3|B012GOSOD2|     671142157|PAC-MAN 256 - End...|     Mobile_Apps|          4|           19|         22|   N|                N|A really fun game...|A really fun game...|2015-08-31 00:00:00|\n",
            "|         US|     496222|  RD5ROPRIYJU2|B013RH895U|     830106093|Video calling Tex...|     Mobile_Apps|          5|           66|         79|   N|                Y|                 Lol|     I love this app|2015-08-31 00:00:00|\n",
            "|         US|    1409017| R91KQZU47W02I|B00TXQQC90|     927941506|Mean Girls: The Game|     Mobile_Apps|          5|           25|         33|   N|                Y|    actually not bad|Its a really fun ...|2015-08-31 00:00:00|\n",
            "|         US|   48673305| RIKCO3Q55X4O0|B00WFBGZOC|      24454451|        Crack Attack|     Mobile_Apps|          3|           21|         25|   N|                Y|         Aptly named|Some of the games...|2015-08-31 00:00:00|\n",
            "|         US|   48684924|R3ID5IVQDI73P3|B00YDLZRRI|     821145313|OfficeSuite Profe...|     Mobile_Apps|          1|          269|        309|   N|                Y|IAP supposed to b...|Actually free is ...|2015-08-31 00:00:00|\n",
            "|         US|   14583345|R1B24LSVGX0L2C|B00TII1RAC|     777630826| Pink Doll Makeover™|     Mobile_Apps|          5|           42|         50|   N|                Y|             Hooked!|Now this is what ...|2015-08-31 00:00:00|\n",
            "|         US|   47430499|R3W34NSP5WLD48|B00NF3AF5O|      36945089|Cloud Security an...|     Mobile_Apps|          1|           57|         69|   N|                Y|Complete waste of...|    Do not purchase!|2015-08-31 00:00:00|\n",
            "|         US|    3031127|R2U660ZUAD0A3P|B010TS4SKK|     238359203|  Looney Tunes Dash!|     Mobile_Apps|          5|           22|         23|   N|                Y|              natt54|Awesome about tim...|2015-08-31 00:00:00|\n",
            "|         US|    6889002| R82AY61IZLUH3|B00YUUU3F8|       8673446|Blamburger - Clar...|     Mobile_Apps|          5|           24|         25|   N|                Y|Me and my niece a...|Me and my niece a...|2015-08-31 00:00:00|\n",
            "|         US|   10689283|R19YST56G6DV8M|B00Y3ZWEL6|     860150135|Castle of Illusio...|     Mobile_Apps|          5|           56|         64|   N|                Y|          Five Stars|Very fun game esp...|2015-08-31 00:00:00|\n",
            "|         US|   27575297|R2I9QXF92BA3GA|B00Q8D48HO|      45906323|           Naval Age|     Mobile_Apps|          5|           13|         21|   N|                Y|                 yes|                 yes|2015-08-31 00:00:00|\n",
            "+-----------+-----------+--------------+----------+--------------+--------------------+----------------+-----------+-------------+-----------+----+-----------------+--------------------+--------------------+-------------------+\n",
            "only showing top 20 rows\n",
            "\n"
          ]
        }
      ]
    },
    {
      "cell_type": "code",
      "source": [
        "#yes vine votes count\n",
        "vine_votes_yes_df.count()\n",
        "#no need to do step 5 for Yes votes since theyre aren't any.\n",
        "#no 5 star revivews so %age is the same as count."
      ],
      "metadata": {
        "colab": {
          "base_uri": "https://localhost:8080/"
        },
        "id": "JdqqsR0Mn5Mj",
        "outputId": "4bef24a6-70f2-4161-c7f4-53ecd64492da"
      },
      "execution_count": 18,
      "outputs": [
        {
          "output_type": "execute_result",
          "data": {
            "text/plain": [
              "0"
            ]
          },
          "metadata": {},
          "execution_count": 18
        }
      ]
    },
    {
      "cell_type": "code",
      "source": [
        "#No vine votes count\n",
        "vine_votes_no_df.count()"
      ],
      "metadata": {
        "id": "-fMtUBPct6B1",
        "colab": {
          "base_uri": "https://localhost:8080/"
        },
        "outputId": "32e5653d-7876-4572-eb20-04e8627c97fb"
      },
      "execution_count": 17,
      "outputs": [
        {
          "output_type": "execute_result",
          "data": {
            "text/plain": [
              "129516"
            ]
          },
          "metadata": {},
          "execution_count": 17
        }
      ]
    },
    {
      "cell_type": "code",
      "source": [
        "vine_votes_5_star_df = vine_votes_no_df.filter(\"star_rating=='5'\")\n",
        "vine_votes_5_star_df.show()\n",
        "#5 star rating df and count\n",
        "vine_votes_5_star_df.count()"
      ],
      "metadata": {
        "colab": {
          "base_uri": "https://localhost:8080/"
        },
        "id": "kgyIFOeomg4L",
        "outputId": "ebbd3581-a8c4-4389-ec02-b35124f62185"
      },
      "execution_count": 22,
      "outputs": [
        {
          "output_type": "stream",
          "name": "stdout",
          "text": [
            "+-----------+-----------+--------------+----------+--------------+--------------------+----------------+-----------+-------------+-----------+----+-----------------+--------------------+--------------------+-------------------+\n",
            "|marketplace|customer_id|     review_id|product_id|product_parent|       product_title|product_category|star_rating|helpful_votes|total_votes|vine|verified_purchase|     review_headline|         review_body|        review_date|\n",
            "+-----------+-----------+--------------+----------+--------------+--------------------+----------------+-----------+-------------+-----------+----+-----------------+--------------------+--------------------+-------------------+\n",
            "|         US|   21735645|R1NB53BPRH24RK|B00N2G87HW|     252539434|       God Of Combat|     Mobile_Apps|          5|           15|         26|   N|                Y|                Rick|Visit fifth givin...|2015-08-31 00:00:00|\n",
            "|         US|   44941941|R3AX1CCCZH20C5|B00ZRVAUUM|     739128988|Goodnight Caillou...|     Mobile_Apps|          5|           17|         26|   N|                Y|reinforce toothbr...|Excellent way to ...|2015-08-31 00:00:00|\n",
            "|         US|     496222|  RD5ROPRIYJU2|B013RH895U|     830106093|Video calling Tex...|     Mobile_Apps|          5|           66|         79|   N|                Y|                 Lol|     I love this app|2015-08-31 00:00:00|\n",
            "|         US|    1409017| R91KQZU47W02I|B00TXQQC90|     927941506|Mean Girls: The Game|     Mobile_Apps|          5|           25|         33|   N|                Y|    actually not bad|Its a really fun ...|2015-08-31 00:00:00|\n",
            "|         US|   14583345|R1B24LSVGX0L2C|B00TII1RAC|     777630826| Pink Doll Makeover™|     Mobile_Apps|          5|           42|         50|   N|                Y|             Hooked!|Now this is what ...|2015-08-31 00:00:00|\n",
            "|         US|    3031127|R2U660ZUAD0A3P|B010TS4SKK|     238359203|  Looney Tunes Dash!|     Mobile_Apps|          5|           22|         23|   N|                Y|              natt54|Awesome about tim...|2015-08-31 00:00:00|\n",
            "|         US|    6889002| R82AY61IZLUH3|B00YUUU3F8|       8673446|Blamburger - Clar...|     Mobile_Apps|          5|           24|         25|   N|                Y|Me and my niece a...|Me and my niece a...|2015-08-31 00:00:00|\n",
            "|         US|   10689283|R19YST56G6DV8M|B00Y3ZWEL6|     860150135|Castle of Illusio...|     Mobile_Apps|          5|           56|         64|   N|                Y|          Five Stars|Very fun game esp...|2015-08-31 00:00:00|\n",
            "|         US|   27575297|R2I9QXF92BA3GA|B00Q8D48HO|      45906323|           Naval Age|     Mobile_Apps|          5|           13|         21|   N|                Y|                 yes|                 yes|2015-08-31 00:00:00|\n",
            "|         US|    4913965| RCRVS8C4FQPL3|B00GJZ3R9Q|     114947184|Girl Skins For Mi...|     Mobile_Apps|          5|           17|         28|   N|                Y|          Five Stars|my daughter lives...|2015-08-31 00:00:00|\n",
            "|         US|   12201275| RCWU83RCSGKAS|B00PSID6ZK|     609815143|   My Talking Angela|     Mobile_Apps|          5|           35|         40|   N|                Y|            Cute App|Look who's talkin...|2015-08-31 00:00:00|\n",
            "|         US|     771751|R1XEX1S7UN56E5|B00VM82IMC|     484605698|Cat Survival Simu...|     Mobile_Apps|          5|           36|         47|   N|                Y|    awesome a little|Plz gluten free g...|2015-08-31 00:00:00|\n",
            "|         US|   34950550|  RTE0IXECUSOB|B00R0DLFNG|     363798722|            Toca Boo|     Mobile_Apps|          5|           23|         34|   N|                Y|         Fun to Play|I think this is t...|2015-08-31 00:00:00|\n",
            "|         US|    5167926|R3F9WCKRCE0P5M|B010DWJINO|      66365186|Freeway Racer Bus...|     Mobile_Apps|          5|           41|         53|   N|                Y|             Amazing|    It's pretty good|2015-08-31 00:00:00|\n",
            "|         US|   23290262|R2DFVQQY2E0ZEH|B00WILT1CM|     463816100|Coco Pony - My Dr...|     Mobile_Apps|          5|           32|         40|   N|                Y|          Five Stars|My granddaughter ...|2015-08-31 00:00:00|\n",
            "|         US|   40531186| REUMBG4JAH0IS|B00QTJWTP0|     850166961|            The Rats|     Mobile_Apps|          5|           18|         29|   N|                Y|          Five Stars|This is a pretty ...|2015-08-31 00:00:00|\n",
            "|         US|    3609425| RL8F8CP28BG2R|B00ZQ7KONA|     116077562|         Fruit Ninja|     Mobile_Apps|          5|          171|        217|   N|                Y|          Five Stars|A fun way to pass...|2015-08-31 00:00:00|\n",
            "|         US|   23797032|R38IZRJ4XLZIID|B00N9L9QKM|      23088943|                 IXL|     Mobile_Apps|          5|           23|         29|   N|                Y|      Great Program!|Our school has pu...|2015-08-31 00:00:00|\n",
            "|         US|     463032| RB5SYC7RI0QV3|B00U7TFM7A|     444635321|        Music Search|     Mobile_Apps|          5|           57|         63|   N|                Y|THIS APP IS FANTA...|THIS APP IS FANTA...|2015-08-31 00:00:00|\n",
            "|         US|   12201275|R3EU48E61YOWAW|B011VIG0JE|     360927523|      Cut the Rope 2|     Mobile_Apps|          5|           21|         25|   N|                Y|       Free and Fun!|FREE! FREE! FREE!...|2015-08-31 00:00:00|\n",
            "+-----------+-----------+--------------+----------+--------------+--------------------+----------------+-----------+-------------+-----------+----+-----------------+--------------------+--------------------+-------------------+\n",
            "only showing top 20 rows\n",
            "\n"
          ]
        },
        {
          "output_type": "execute_result",
          "data": {
            "text/plain": [
              "59278"
            ]
          },
          "metadata": {},
          "execution_count": 22
        }
      ]
    },
    {
      "cell_type": "code",
      "source": [
        "#% of 5 star reviews for No vine\n",
        "vine_votes_5_star_df.count()/vine_votes_no_df.count()"
      ],
      "metadata": {
        "colab": {
          "base_uri": "https://localhost:8080/"
        },
        "id": "PxQid7mXpC0E",
        "outputId": "147edfab-3268-4f6f-c7d8-761c44c75223"
      },
      "execution_count": 24,
      "outputs": [
        {
          "output_type": "execute_result",
          "data": {
            "text/plain": [
              "0.4576886253435869"
            ]
          },
          "metadata": {},
          "execution_count": 24
        }
      ]
    },
    {
      "cell_type": "code",
      "source": [],
      "metadata": {
        "id": "HzJQGWpHsIrT"
      },
      "execution_count": null,
      "outputs": []
    }
  ]
}